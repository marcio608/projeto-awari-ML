{
 "cells": [
  {
   "cell_type": "code",
   "execution_count": 1,
   "id": "5c0ac19c",
   "metadata": {},
   "outputs": [
    {
     "name": "stdout",
     "output_type": "stream",
     "text": [
      "Requirement already satisfied: pandas-datareader in c:\\users\\marci\\anaconda3\\lib\\site-packages (0.10.0)\n",
      "Requirement already satisfied: pandas>=0.23 in c:\\users\\marci\\anaconda3\\lib\\site-packages (from pandas-datareader) (1.2.4)\n",
      "Requirement already satisfied: lxml in c:\\users\\marci\\anaconda3\\lib\\site-packages (from pandas-datareader) (4.6.3)\n",
      "Requirement already satisfied: requests>=2.19.0 in c:\\users\\marci\\anaconda3\\lib\\site-packages (from pandas-datareader) (2.25.1)\n",
      "Requirement already satisfied: numpy>=1.16.5 in c:\\users\\marci\\anaconda3\\lib\\site-packages (from pandas>=0.23->pandas-datareader) (1.19.5)\n",
      "Requirement already satisfied: python-dateutil>=2.7.3 in c:\\users\\marci\\anaconda3\\lib\\site-packages (from pandas>=0.23->pandas-datareader) (2.8.1)\n",
      "Requirement already satisfied: pytz>=2017.3 in c:\\users\\marci\\anaconda3\\lib\\site-packages (from pandas>=0.23->pandas-datareader) (2021.1)\n",
      "Requirement already satisfied: six>=1.5 in c:\\users\\marci\\anaconda3\\lib\\site-packages (from python-dateutil>=2.7.3->pandas>=0.23->pandas-datareader) (1.15.0)\n",
      "Requirement already satisfied: certifi>=2017.4.17 in c:\\users\\marci\\anaconda3\\lib\\site-packages (from requests>=2.19.0->pandas-datareader) (2020.12.5)\n",
      "Requirement already satisfied: urllib3<1.27,>=1.21.1 in c:\\users\\marci\\anaconda3\\lib\\site-packages (from requests>=2.19.0->pandas-datareader) (1.26.4)\n",
      "Requirement already satisfied: idna<3,>=2.5 in c:\\users\\marci\\anaconda3\\lib\\site-packages (from requests>=2.19.0->pandas-datareader) (2.10)\n",
      "Requirement already satisfied: chardet<5,>=3.0.2 in c:\\users\\marci\\anaconda3\\lib\\site-packages (from requests>=2.19.0->pandas-datareader) (4.0.0)\n"
     ]
    }
   ],
   "source": [
    "!pip install pandas-datareader\n"
   ]
  },
  {
   "cell_type": "code",
   "execution_count": 1,
   "id": "6068c2b3",
   "metadata": {},
   "outputs": [],
   "source": [
    "#Importações básicas\n",
    "\n",
    "import pandas as pd\n",
    "import numpy as np\n",
    "import math\n",
    "import pandas_datareader as web\n",
    "from sklearn.preprocessing import MinMaxScaler\n",
    "from sklearn.metrics import mean_squared_error\n",
    "import matplotlib.pyplot as plt\n",
    "%matplotlib inline\n"
   ]
  },
  {
   "cell_type": "code",
   "execution_count": 2,
   "id": "410dddd9",
   "metadata": {},
   "outputs": [
    {
     "data": {
      "text/html": [
       "<div>\n",
       "<style scoped>\n",
       "    .dataframe tbody tr th:only-of-type {\n",
       "        vertical-align: middle;\n",
       "    }\n",
       "\n",
       "    .dataframe tbody tr th {\n",
       "        vertical-align: top;\n",
       "    }\n",
       "\n",
       "    .dataframe thead th {\n",
       "        text-align: right;\n",
       "    }\n",
       "</style>\n",
       "<table border=\"1\" class=\"dataframe\">\n",
       "  <thead>\n",
       "    <tr style=\"text-align: right;\">\n",
       "      <th></th>\n",
       "      <th>High</th>\n",
       "      <th>Low</th>\n",
       "      <th>Open</th>\n",
       "      <th>Close</th>\n",
       "      <th>Volume</th>\n",
       "      <th>Adj Close</th>\n",
       "    </tr>\n",
       "    <tr>\n",
       "      <th>Date</th>\n",
       "      <th></th>\n",
       "      <th></th>\n",
       "      <th></th>\n",
       "      <th></th>\n",
       "      <th></th>\n",
       "      <th></th>\n",
       "    </tr>\n",
       "  </thead>\n",
       "  <tbody>\n",
       "    <tr>\n",
       "      <th>2012-05-18</th>\n",
       "      <td>45.000000</td>\n",
       "      <td>38.000000</td>\n",
       "      <td>42.049999</td>\n",
       "      <td>38.230000</td>\n",
       "      <td>573576400</td>\n",
       "      <td>38.230000</td>\n",
       "    </tr>\n",
       "    <tr>\n",
       "      <th>2012-05-21</th>\n",
       "      <td>36.660000</td>\n",
       "      <td>33.000000</td>\n",
       "      <td>36.529999</td>\n",
       "      <td>34.029999</td>\n",
       "      <td>168192700</td>\n",
       "      <td>34.029999</td>\n",
       "    </tr>\n",
       "    <tr>\n",
       "      <th>2012-05-22</th>\n",
       "      <td>33.590000</td>\n",
       "      <td>30.940001</td>\n",
       "      <td>32.610001</td>\n",
       "      <td>31.000000</td>\n",
       "      <td>101786600</td>\n",
       "      <td>31.000000</td>\n",
       "    </tr>\n",
       "    <tr>\n",
       "      <th>2012-05-23</th>\n",
       "      <td>32.500000</td>\n",
       "      <td>31.360001</td>\n",
       "      <td>31.370001</td>\n",
       "      <td>32.000000</td>\n",
       "      <td>73600000</td>\n",
       "      <td>32.000000</td>\n",
       "    </tr>\n",
       "    <tr>\n",
       "      <th>2012-05-24</th>\n",
       "      <td>33.209999</td>\n",
       "      <td>31.770000</td>\n",
       "      <td>32.950001</td>\n",
       "      <td>33.029999</td>\n",
       "      <td>50237200</td>\n",
       "      <td>33.029999</td>\n",
       "    </tr>\n",
       "    <tr>\n",
       "      <th>2012-05-25</th>\n",
       "      <td>32.950001</td>\n",
       "      <td>31.110001</td>\n",
       "      <td>32.900002</td>\n",
       "      <td>31.910000</td>\n",
       "      <td>37149800</td>\n",
       "      <td>31.910000</td>\n",
       "    </tr>\n",
       "    <tr>\n",
       "      <th>2012-05-29</th>\n",
       "      <td>31.690001</td>\n",
       "      <td>28.650000</td>\n",
       "      <td>31.480000</td>\n",
       "      <td>28.840000</td>\n",
       "      <td>78063400</td>\n",
       "      <td>28.840000</td>\n",
       "    </tr>\n",
       "    <tr>\n",
       "      <th>2012-05-30</th>\n",
       "      <td>29.549999</td>\n",
       "      <td>27.860001</td>\n",
       "      <td>28.700001</td>\n",
       "      <td>28.190001</td>\n",
       "      <td>57267900</td>\n",
       "      <td>28.190001</td>\n",
       "    </tr>\n",
       "    <tr>\n",
       "      <th>2012-05-31</th>\n",
       "      <td>29.670000</td>\n",
       "      <td>26.830000</td>\n",
       "      <td>28.549999</td>\n",
       "      <td>29.600000</td>\n",
       "      <td>111639200</td>\n",
       "      <td>29.600000</td>\n",
       "    </tr>\n",
       "    <tr>\n",
       "      <th>2012-06-01</th>\n",
       "      <td>29.150000</td>\n",
       "      <td>27.389999</td>\n",
       "      <td>28.889999</td>\n",
       "      <td>27.719999</td>\n",
       "      <td>41855500</td>\n",
       "      <td>27.719999</td>\n",
       "    </tr>\n",
       "  </tbody>\n",
       "</table>\n",
       "</div>"
      ],
      "text/plain": [
       "                 High        Low       Open      Close     Volume  Adj Close\n",
       "Date                                                                        \n",
       "2012-05-18  45.000000  38.000000  42.049999  38.230000  573576400  38.230000\n",
       "2012-05-21  36.660000  33.000000  36.529999  34.029999  168192700  34.029999\n",
       "2012-05-22  33.590000  30.940001  32.610001  31.000000  101786600  31.000000\n",
       "2012-05-23  32.500000  31.360001  31.370001  32.000000   73600000  32.000000\n",
       "2012-05-24  33.209999  31.770000  32.950001  33.029999   50237200  33.029999\n",
       "2012-05-25  32.950001  31.110001  32.900002  31.910000   37149800  31.910000\n",
       "2012-05-29  31.690001  28.650000  31.480000  28.840000   78063400  28.840000\n",
       "2012-05-30  29.549999  27.860001  28.700001  28.190001   57267900  28.190001\n",
       "2012-05-31  29.670000  26.830000  28.549999  29.600000  111639200  29.600000\n",
       "2012-06-01  29.150000  27.389999  28.889999  27.719999   41855500  27.719999"
      ]
     },
     "execution_count": 2,
     "metadata": {},
     "output_type": "execute_result"
    }
   ],
   "source": [
    "#Carregando a base de dados\n",
    "df = web.DataReader('FB', data_source='yahoo', start = '2012-01-01', end = '2021-07-23' )\n",
    "df.head(10)"
   ]
  },
  {
   "cell_type": "code",
   "execution_count": 3,
   "id": "301068ea",
   "metadata": {},
   "outputs": [
    {
     "data": {
      "text/html": [
       "<div>\n",
       "<style scoped>\n",
       "    .dataframe tbody tr th:only-of-type {\n",
       "        vertical-align: middle;\n",
       "    }\n",
       "\n",
       "    .dataframe tbody tr th {\n",
       "        vertical-align: top;\n",
       "    }\n",
       "\n",
       "    .dataframe thead th {\n",
       "        text-align: right;\n",
       "    }\n",
       "</style>\n",
       "<table border=\"1\" class=\"dataframe\">\n",
       "  <thead>\n",
       "    <tr style=\"text-align: right;\">\n",
       "      <th></th>\n",
       "      <th>High</th>\n",
       "      <th>Low</th>\n",
       "      <th>Open</th>\n",
       "      <th>Close</th>\n",
       "      <th>Volume</th>\n",
       "      <th>Adj Close</th>\n",
       "    </tr>\n",
       "    <tr>\n",
       "      <th>Date</th>\n",
       "      <th></th>\n",
       "      <th></th>\n",
       "      <th></th>\n",
       "      <th></th>\n",
       "      <th></th>\n",
       "      <th></th>\n",
       "    </tr>\n",
       "  </thead>\n",
       "  <tbody>\n",
       "    <tr>\n",
       "      <th>2021-07-19</th>\n",
       "      <td>339.790009</td>\n",
       "      <td>334.540009</td>\n",
       "      <td>337.570007</td>\n",
       "      <td>336.950012</td>\n",
       "      <td>14372300</td>\n",
       "      <td>336.950012</td>\n",
       "    </tr>\n",
       "    <tr>\n",
       "      <th>2021-07-20</th>\n",
       "      <td>343.450012</td>\n",
       "      <td>334.500000</td>\n",
       "      <td>338.799988</td>\n",
       "      <td>341.660004</td>\n",
       "      <td>11024300</td>\n",
       "      <td>341.660004</td>\n",
       "    </tr>\n",
       "    <tr>\n",
       "      <th>2021-07-21</th>\n",
       "      <td>346.519989</td>\n",
       "      <td>341.250000</td>\n",
       "      <td>341.500000</td>\n",
       "      <td>346.230011</td>\n",
       "      <td>9279700</td>\n",
       "      <td>346.230011</td>\n",
       "    </tr>\n",
       "    <tr>\n",
       "      <th>2021-07-22</th>\n",
       "      <td>351.540009</td>\n",
       "      <td>345.209991</td>\n",
       "      <td>346.679993</td>\n",
       "      <td>351.190002</td>\n",
       "      <td>12385400</td>\n",
       "      <td>351.190002</td>\n",
       "    </tr>\n",
       "    <tr>\n",
       "      <th>2021-07-23</th>\n",
       "      <td>375.329987</td>\n",
       "      <td>357.190002</td>\n",
       "      <td>360.910004</td>\n",
       "      <td>369.790009</td>\n",
       "      <td>33694300</td>\n",
       "      <td>369.790009</td>\n",
       "    </tr>\n",
       "  </tbody>\n",
       "</table>\n",
       "</div>"
      ],
      "text/plain": [
       "                  High         Low        Open       Close    Volume  \\\n",
       "Date                                                                   \n",
       "2021-07-19  339.790009  334.540009  337.570007  336.950012  14372300   \n",
       "2021-07-20  343.450012  334.500000  338.799988  341.660004  11024300   \n",
       "2021-07-21  346.519989  341.250000  341.500000  346.230011   9279700   \n",
       "2021-07-22  351.540009  345.209991  346.679993  351.190002  12385400   \n",
       "2021-07-23  375.329987  357.190002  360.910004  369.790009  33694300   \n",
       "\n",
       "             Adj Close  \n",
       "Date                    \n",
       "2021-07-19  336.950012  \n",
       "2021-07-20  341.660004  \n",
       "2021-07-21  346.230011  \n",
       "2021-07-22  351.190002  \n",
       "2021-07-23  369.790009  "
      ]
     },
     "execution_count": 3,
     "metadata": {},
     "output_type": "execute_result"
    }
   ],
   "source": [
    "df.tail()"
   ]
  },
  {
   "cell_type": "code",
   "execution_count": 4,
   "id": "e6b1a544",
   "metadata": {},
   "outputs": [
    {
     "data": {
      "text/plain": [
       "(2310, 6)"
      ]
     },
     "execution_count": 4,
     "metadata": {},
     "output_type": "execute_result"
    }
   ],
   "source": [
    "df.shape"
   ]
  },
  {
   "cell_type": "code",
   "execution_count": 5,
   "id": "01f4d5d4",
   "metadata": {},
   "outputs": [
    {
     "data": {
      "text/plain": [
       "High         0\n",
       "Low          0\n",
       "Open         0\n",
       "Close        0\n",
       "Volume       0\n",
       "Adj Close    0\n",
       "dtype: int64"
      ]
     },
     "execution_count": 5,
     "metadata": {},
     "output_type": "execute_result"
    }
   ],
   "source": [
    "#tratando dos dados\n",
    "df.isnull().sum()"
   ]
  },
  {
   "cell_type": "code",
   "execution_count": 6,
   "id": "328715ea",
   "metadata": {},
   "outputs": [
    {
     "data": {
      "text/plain": [
       "High         float64\n",
       "Low          float64\n",
       "Open         float64\n",
       "Close        float64\n",
       "Volume         int64\n",
       "Adj Close    float64\n",
       "dtype: object"
      ]
     },
     "execution_count": 6,
     "metadata": {},
     "output_type": "execute_result"
    }
   ],
   "source": [
    "df.dtypes"
   ]
  },
  {
   "cell_type": "code",
   "execution_count": 7,
   "id": "6a0a5e71",
   "metadata": {},
   "outputs": [
    {
     "data": {
      "text/plain": [
       "Index(['High', 'Low', 'Open', 'Close', 'Volume', 'Adj Close'], dtype='object')"
      ]
     },
     "execution_count": 7,
     "metadata": {},
     "output_type": "execute_result"
    }
   ],
   "source": [
    "df.columns"
   ]
  },
  {
   "cell_type": "code",
   "execution_count": 8,
   "id": "f1cb2765",
   "metadata": {},
   "outputs": [
    {
     "data": {
      "text/plain": [
       "Text(0, 0.5, 'Close Price (USD)')"
      ]
     },
     "execution_count": 8,
     "metadata": {},
     "output_type": "execute_result"
    },
    {
     "data": {
      "image/png": "[encoded data removed]",
      "text/plain": [
       "<Figure size 1152x576 with 1 Axes>"
      ]
     },
     "metadata": {
      "needs_background": "light"
     },
     "output_type": "display_data"
    }
   ],
   "source": [
    "#Plotando os dados\n",
    "plt.figure(figsize =(16,8))\n",
    "plt.plot(df['Close'])\n",
    "plt.xlabel('Data')\n",
    "plt.ylabel('Close Price (USD)')"
   ]
  },
  {
   "cell_type": "code",
   "execution_count": 9,
   "id": "00adf4c5",
   "metadata": {},
   "outputs": [],
   "source": [
    "#Criando um df somente com a coluna 'Close'\n",
    "df_close = df.filter(['Close'])"
   ]
  },
  {
   "cell_type": "code",
   "execution_count": 11,
   "id": "099fda1e",
   "metadata": {},
   "outputs": [
    {
     "data": {
      "text/html": [
       "<div>\n",
       "<style scoped>\n",
       "    .dataframe tbody tr th:only-of-type {\n",
       "        vertical-align: middle;\n",
       "    }\n",
       "\n",
       "    .dataframe tbody tr th {\n",
       "        vertical-align: top;\n",
       "    }\n",
       "\n",
       "    .dataframe thead th {\n",
       "        text-align: right;\n",
       "    }\n",
       "</style>\n",
       "<table border=\"1\" class=\"dataframe\">\n",
       "  <thead>\n",
       "    <tr style=\"text-align: right;\">\n",
       "      <th></th>\n",
       "      <th>Close</th>\n",
       "    </tr>\n",
       "    <tr>\n",
       "      <th>Date</th>\n",
       "      <th></th>\n",
       "    </tr>\n",
       "  </thead>\n",
       "  <tbody>\n",
       "    <tr>\n",
       "      <th>2012-05-18</th>\n",
       "      <td>38.230000</td>\n",
       "    </tr>\n",
       "    <tr>\n",
       "      <th>2012-05-21</th>\n",
       "      <td>34.029999</td>\n",
       "    </tr>\n",
       "    <tr>\n",
       "      <th>2012-05-22</th>\n",
       "      <td>31.000000</td>\n",
       "    </tr>\n",
       "    <tr>\n",
       "      <th>2012-05-23</th>\n",
       "      <td>32.000000</td>\n",
       "    </tr>\n",
       "    <tr>\n",
       "      <th>2012-05-24</th>\n",
       "      <td>33.029999</td>\n",
       "    </tr>\n",
       "  </tbody>\n",
       "</table>\n",
       "</div>"
      ],
      "text/plain": [
       "                Close\n",
       "Date                 \n",
       "2012-05-18  38.230000\n",
       "2012-05-21  34.029999\n",
       "2012-05-22  31.000000\n",
       "2012-05-23  32.000000\n",
       "2012-05-24  33.029999"
      ]
     },
     "execution_count": 11,
     "metadata": {},
     "output_type": "execute_result"
    }
   ],
   "source": [
    "df_close.head()"
   ]
  },
  {
   "cell_type": "code",
   "execution_count": 10,
   "id": "bfc31c1b",
   "metadata": {},
   "outputs": [
    {
     "data": {
      "text/plain": [
       "Date\n",
       "2012-05-18           NaN\n",
       "2012-05-21           NaN\n",
       "2012-05-22           NaN\n",
       "2012-05-23           NaN\n",
       "2012-05-24           NaN\n",
       "                 ...    \n",
       "2021-07-19    330.023333\n",
       "2021-07-20    330.698833\n",
       "2021-07-21    331.418667\n",
       "2021-07-22    332.212333\n",
       "2021-07-23    333.257167\n",
       "Name: Close, Length: 2310, dtype: float64"
      ]
     },
     "execution_count": 10,
     "metadata": {},
     "output_type": "execute_result"
    }
   ],
   "source": [
    "# Média Móvel de 60 dias\n",
    "\n",
    "m_mov_60 = df.Close.rolling(60).mean()\n",
    "m_mov_60"
   ]
  },
  {
   "cell_type": "code",
   "execution_count": 8,
   "id": "28f03b19",
   "metadata": {},
   "outputs": [
    {
     "data": {
      "text/plain": [
       "[<matplotlib.lines.Line2D at 0x1fdc9601dc0>]"
      ]
     },
     "execution_count": 8,
     "metadata": {},
     "output_type": "execute_result"
    },
    {
     "data": {
      "image/png": "[encoded data removed]",
      "text/plain": [
       "<Figure size 1152x576 with 1 Axes>"
      ]
     },
     "metadata": {
      "needs_background": "light"
     },
     "output_type": "display_data"
    }
   ],
   "source": [
    "# Gráfico com a média móvel\n",
    "plt.figure(figsize=(16,8))\n",
    "plt.plot(df.Close)\n",
    "plt.plot(m_mov_60, 'r')"
   ]
  },
  {
   "cell_type": "code",
   "execution_count": 12,
   "id": "bf24d01a",
   "metadata": {},
   "outputs": [],
   "source": [
    "#Convertendo para um array\n",
    "dataset = df_close.values"
   ]
  },
  {
   "cell_type": "code",
   "execution_count": 13,
   "id": "347d47d8",
   "metadata": {},
   "outputs": [
    {
     "data": {
      "text/plain": [
       "numpy.ndarray"
      ]
     },
     "execution_count": 13,
     "metadata": {},
     "output_type": "execute_result"
    }
   ],
   "source": [
    "type(dataset)"
   ]
  },
  {
   "cell_type": "code",
   "execution_count": 14,
   "id": "5ebe7d6c",
   "metadata": {},
   "outputs": [
    {
     "data": {
      "text/plain": [
       "1848"
      ]
     },
     "execution_count": 14,
     "metadata": {},
     "output_type": "execute_result"
    }
   ],
   "source": [
    "#Tamanho do conjunto de treino\n",
    "df_train_len = math.ceil(len(dataset)*0.8)\n",
    "\n",
    "df_train_len"
   ]
  },
  {
   "cell_type": "code",
   "execution_count": 15,
   "id": "87dbd223",
   "metadata": {},
   "outputs": [
    {
     "data": {
      "text/plain": [
       "array([[0.05822871],\n",
       "       [0.04629892],\n",
       "       [0.03769244],\n",
       "       ...,\n",
       "       [0.9330796 ],\n",
       "       [0.94716808],\n",
       "       [1.        ]])"
      ]
     },
     "execution_count": 15,
     "metadata": {},
     "output_type": "execute_result"
    }
   ],
   "source": [
    "#Escalonando os dados\n",
    "\n",
    "scaler = MinMaxScaler(feature_range=(0,1))\n",
    "scaled_df = scaler.fit_transform(df_close)\n",
    "\n",
    "scaled_df\n"
   ]
  },
  {
   "cell_type": "code",
   "execution_count": 16,
   "id": "df6dca41",
   "metadata": {},
   "outputs": [],
   "source": [
    "# Criando o df de treino\n",
    "train_data = scaled_df[0:df_train_len:,]"
   ]
  },
  {
   "cell_type": "code",
   "execution_count": 17,
   "id": "d619d76c",
   "metadata": {},
   "outputs": [
    {
     "data": {
      "text/plain": [
       "(1848, 1)"
      ]
     },
     "execution_count": 17,
     "metadata": {},
     "output_type": "execute_result"
    }
   ],
   "source": [
    "train_data.shape\n"
   ]
  },
  {
   "cell_type": "code",
   "execution_count": 18,
   "id": "44fa9c5a",
   "metadata": {},
   "outputs": [],
   "source": [
    "#dividindo entre x_train e Y_train\n",
    "\n",
    "x_train = []\n",
    "y_train = []\n",
    "\n",
    "for i in range(60, len(train_data)): \n",
    "    x_train.append(train_data[i-60:i,0]) # vai do 0 a posição 59\n",
    "    y_train.append(train_data[i,0])  # valor da posição 60 (valor a ser previsto)\n",
    "    \n",
    "x_train, y_train = np.array(x_train), np.array(y_train)\n",
    "    "
   ]
  },
  {
   "cell_type": "code",
   "execution_count": 19,
   "id": "0507a099",
   "metadata": {},
   "outputs": [
    {
     "data": {
      "text/plain": [
       "(1788, 60, 1)"
      ]
     },
     "execution_count": 19,
     "metadata": {},
     "output_type": "execute_result"
    }
   ],
   "source": [
    "# Passando para 3d (LSTM model)\n",
    "x_train = np.reshape(x_train, (x_train.shape[0], x_train.shape[1], 1))\n",
    "x_train.shape"
   ]
  },
  {
   "cell_type": "code",
   "execution_count": 20,
   "id": "aa883e62",
   "metadata": {},
   "outputs": [],
   "source": [
    "# Construindo o modelo LSTM\n",
    "\n",
    "from keras.models import Sequential\n",
    "from keras.layers import Dense, LSTM\n",
    "from sklearn.metrics import mean_squared_error\n",
    "from keras.layers import Dropout"
   ]
  },
  {
   "cell_type": "code",
   "execution_count": 21,
   "id": "00a57ea4",
   "metadata": {},
   "outputs": [
    {
     "name": "stdout",
     "output_type": "stream",
     "text": [
      "Model: \"sequential\"\n",
      "_________________________________________________________________\n",
      "Layer (type)                 Output Shape              Param #   \n",
      "=================================================================\n",
      "lstm (LSTM)                  (None, 60, 64)            16896     \n",
      "_________________________________________________________________\n",
      "dropout (Dropout)            (None, 60, 64)            0         \n",
      "_________________________________________________________________\n",
      "lstm_1 (LSTM)                (None, 32)                12416     \n",
      "_________________________________________________________________\n",
      "dropout_1 (Dropout)          (None, 32)                0         \n",
      "_________________________________________________________________\n",
      "dense (Dense)                (None, 1)                 33        \n",
      "=================================================================\n",
      "Total params: 29,345\n",
      "Trainable params: 29,345\n",
      "Non-trainable params: 0\n",
      "_________________________________________________________________\n"
     ]
    }
   ],
   "source": [
    "model = Sequential()\n",
    "\n",
    "model.add(LSTM(units = 64,activation = 'relu', return_sequences = True, input_shape = (x_train.shape[1], 1)))\n",
    "model.add(Dropout(0.2))\n",
    "\n",
    "model.add(LSTM(units =32,activation = 'relu', return_sequences=False))\n",
    "model.add(Dropout(0.2))\n",
    "\n",
    "\n",
    "model.add(Dense(1))\n",
    "\n",
    "model.summary()"
   ]
  },
  {
   "cell_type": "code",
   "execution_count": 22,
   "id": "75039436",
   "metadata": {},
   "outputs": [],
   "source": [
    "#compilando o modelo\n",
    "model.compile(optimizer='adam', loss= 'mean_squared_error', metrics = ['accuracy'])"
   ]
  },
  {
   "cell_type": "code",
   "execution_count": 23,
   "id": "c2394c4c",
   "metadata": {},
   "outputs": [
    {
     "name": "stdout",
     "output_type": "stream",
     "text": [
      "Epoch 1/180\n",
      "51/51 [==============================] - 1s 29ms/step - loss: 0.0154 - accuracy: 6.2150e-04 - val_loss: 0.0012 - val_accuracy: 0.0000e+00\n",
      "Epoch 2/180\n",
      "51/51 [==============================] - 1s 23ms/step - loss: 0.0022 - accuracy: 6.2150e-04 - val_loss: 9.6077e-04 - val_accuracy: 0.0000e+00uracy: 6.2500e-\n",
      "Epoch 3/180\n",
      "51/51 [==============================] - 1s 23ms/step - loss: 0.0018 - accuracy: 6.2150e-04 - val_loss: 8.0777e-04 - val_accuracy: 0.0000e+00\n",
      "Epoch 4/180\n",
      "51/51 [==============================] - 1s 23ms/step - loss: 0.0015 - accuracy: 6.2150e-04 - val_loss: 5.5427e-04 - val_accuracy: 0.0000e+00\n",
      "Epoch 5/180\n",
      "51/51 [==============================] - 1s 23ms/step - loss: 0.0018 - accuracy: 6.2150e-04 - val_loss: 6.3731e-04 - val_accuracy: 0.0000e+00\n",
      "Epoch 6/180\n",
      "51/51 [==============================] - 1s 23ms/step - loss: 0.0014 - accuracy: 6.2150e-04 - val_loss: 4.4143e-04 - val_accuracy: 0.0000e+00\n",
      "Epoch 7/180\n",
      "51/51 [==============================] - 1s 23ms/step - loss: 0.0013 - accuracy: 6.2150e-04 - val_loss: 7.3863e-04 - val_accuracy: 0.0000e+00\n",
      "Epoch 8/180\n",
      "51/51 [==============================] - 1s 23ms/step - loss: 0.0012 - accuracy: 6.2150e-04 - val_loss: 6.6713e-04 - val_accuracy: 0.0000e+00\n",
      "Epoch 9/180\n",
      "51/51 [==============================] - 1s 24ms/step - loss: 0.0011 - accuracy: 6.2150e-04 - val_loss: 6.9002e-04 - val_accuracy: 0.0000e+00\n",
      "Epoch 10/180\n",
      "51/51 [==============================] - 1s 23ms/step - loss: 0.0012 - accuracy: 6.2150e-04 - val_loss: 7.9748e-04 - val_accuracy: 0.0000e+00\n",
      "Epoch 11/180\n",
      "51/51 [==============================] - 1s 23ms/step - loss: 0.0010 - accuracy: 6.2150e-04 - val_loss: 5.8316e-04 - val_accuracy: 0.0000e+00\n",
      "Epoch 12/180\n",
      "51/51 [==============================] - 1s 23ms/step - loss: 0.0010 - accuracy: 6.2150e-04 - val_loss: 8.0063e-04 - val_accuracy: 0.0000e+00\n",
      "Epoch 13/180\n",
      "51/51 [==============================] - 1s 23ms/step - loss: 8.3081e-04 - accuracy: 6.2150e-04 - val_loss: 9.3520e-04 - val_accuracy: 0.0000e+00\n",
      "Epoch 14/180\n",
      "51/51 [==============================] - 1s 23ms/step - loss: 9.8281e-04 - accuracy: 6.2150e-04 - val_loss: 5.2625e-04 - val_accuracy: 0.0000e+00\n",
      "Epoch 15/180\n",
      "51/51 [==============================] - 1s 23ms/step - loss: 9.2076e-04 - accuracy: 6.2150e-04 - val_loss: 5.5560e-04 - val_accuracy: 0.0000e+00\n",
      "Epoch 16/180\n",
      "51/51 [==============================] - 1s 23ms/step - loss: 8.5895e-04 - accuracy: 6.2150e-04 - val_loss: 9.6178e-04 - val_accuracy: 0.0000e+00\n",
      "Epoch 17/180\n",
      "51/51 [==============================] - 1s 23ms/step - loss: 8.3889e-04 - accuracy: 6.2150e-04 - val_loss: 3.8326e-04 - val_accuracy: 0.0000e+00\n",
      "Epoch 18/180\n",
      "51/51 [==============================] - 1s 23ms/step - loss: 8.0207e-04 - accuracy: 6.2150e-04 - val_loss: 0.0015 - val_accuracy: 0.0000e+00\n",
      "Epoch 19/180\n",
      "51/51 [==============================] - 1s 24ms/step - loss: 8.9754e-04 - accuracy: 6.2150e-04 - val_loss: 5.4490e-04 - val_accuracy: 0.0000e+00\n",
      "Epoch 20/180\n",
      "51/51 [==============================] - 1s 23ms/step - loss: 8.8352e-04 - accuracy: 6.2150e-04 - val_loss: 3.5391e-04 - val_accuracy: 0.0000e+00\n",
      "Epoch 21/180\n",
      "51/51 [==============================] - 1s 24ms/step - loss: 7.3471e-04 - accuracy: 6.2150e-04 - val_loss: 5.5076e-04 - val_accuracy: 0.0000e+00\n",
      "Epoch 22/180\n",
      "51/51 [==============================] - 1s 24ms/step - loss: 8.2018e-04 - accuracy: 6.2150e-04 - val_loss: 8.3348e-04 - val_accuracy: 0.0000e+00\n",
      "Epoch 23/180\n",
      "51/51 [==============================] - 1s 23ms/step - loss: 7.6749e-04 - accuracy: 6.2150e-04 - val_loss: 6.7048e-04 - val_accuracy: 0.0000e+00\n",
      "Epoch 24/180\n",
      "51/51 [==============================] - 1s 24ms/step - loss: 6.8084e-04 - accuracy: 6.2150e-04 - val_loss: 4.4143e-04 - val_accuracy: 0.0000e+00\n",
      "Epoch 25/180\n",
      "51/51 [==============================] - 1s 23ms/step - loss: 6.6933e-04 - accuracy: 6.2150e-04 - val_loss: 3.9437e-04 - val_accuracy: 0.0000e+00\n",
      "Epoch 26/180\n",
      "51/51 [==============================] - 1s 24ms/step - loss: 7.8098e-04 - accuracy: 6.2150e-04 - val_loss: 7.9451e-04 - val_accuracy: 0.0000e+00\n",
      "Epoch 27/180\n",
      "51/51 [==============================] - 1s 24ms/step - loss: 6.9772e-04 - accuracy: 6.2150e-04 - val_loss: 4.7900e-04 - val_accuracy: 0.0000e+00\n",
      "Epoch 28/180\n",
      "51/51 [==============================] - 1s 24ms/step - loss: 7.1344e-04 - accuracy: 6.2150e-04 - val_loss: 5.5854e-04 - val_accuracy: 0.0000e+00\n",
      "Epoch 29/180\n",
      "51/51 [==============================] - 1s 27ms/step - loss: 6.9072e-04 - accuracy: 6.2150e-04 - val_loss: 8.1646e-04 - val_accuracy: 0.0000e+00\n",
      "Epoch 30/180\n",
      "51/51 [==============================] - 1s 27ms/step - loss: 7.2193e-04 - accuracy: 6.2150e-04 - val_loss: 3.5139e-04 - val_accuracy: 0.0000e+00\n",
      "Epoch 31/180\n",
      "51/51 [==============================] - 1s 27ms/step - loss: 7.0856e-04 - accuracy: 6.2150e-04 - val_loss: 3.6514e-04 - val_accuracy: 0.0000e+00\n",
      "Epoch 32/180\n",
      "51/51 [==============================] - 1s 27ms/step - loss: 5.9745e-04 - accuracy: 6.2150e-04 - val_loss: 4.7021e-04 - val_accuracy: 0.0000e+00\n",
      "Epoch 33/180\n",
      "51/51 [==============================] - 1s 27ms/step - loss: 6.3391e-04 - accuracy: 6.2150e-04 - val_loss: 3.6985e-04 - val_accuracy: 0.0000e+00\n",
      "Epoch 34/180\n",
      "51/51 [==============================] - 1s 26ms/step - loss: 6.4940e-04 - accuracy: 6.2150e-04 - val_loss: 4.4230e-04 - val_accuracy: 0.0000e+00\n",
      "Epoch 35/180\n",
      "51/51 [==============================] - 1s 27ms/step - loss: 6.3421e-04 - accuracy: 6.2150e-04 - val_loss: 3.9289e-04 - val_accuracy: 0.0000e+00\n",
      "Epoch 36/180\n",
      "51/51 [==============================] - 1s 26ms/step - loss: 5.6023e-04 - accuracy: 6.2150e-04 - val_loss: 7.2549e-04 - val_accuracy: 0.0000e+00\n",
      "Epoch 37/180\n",
      "51/51 [==============================] - 1s 27ms/step - loss: 6.5061e-04 - accuracy: 6.2150e-04 - val_loss: 9.4825e-04 - val_accuracy: 0.0000e+00\n",
      "Epoch 38/180\n",
      "51/51 [==============================] - 1s 26ms/step - loss: 6.6505e-04 - accuracy: 6.2150e-04 - val_loss: 3.6740e-04 - val_accuracy: 0.0000e+00\n",
      "Epoch 39/180\n",
      "51/51 [==============================] - 1s 27ms/step - loss: 6.3876e-04 - accuracy: 6.2150e-04 - val_loss: 8.7088e-04 - val_accuracy: 0.0000e+00\n",
      "Epoch 40/180\n",
      "51/51 [==============================] - 1s 26ms/step - loss: 5.7824e-04 - accuracy: 6.2150e-04 - val_loss: 5.3075e-04 - val_accuracy: 0.0000e+00\n",
      "Epoch 41/180\n",
      "51/51 [==============================] - 1s 26ms/step - loss: 5.9268e-04 - accuracy: 6.2150e-04 - val_loss: 3.3206e-04 - val_accuracy: 0.0000e+00\n",
      "Epoch 42/180\n",
      "51/51 [==============================] - 1s 26ms/step - loss: 6.3169e-04 - accuracy: 6.2150e-04 - val_loss: 3.6032e-04 - val_accuracy: 0.0000e+00\n",
      "Epoch 43/180\n",
      "51/51 [==============================] - 1s 26ms/step - loss: 6.6995e-04 - accuracy: 6.2150e-04 - val_loss: 3.2006e-04 - val_accuracy: 0.0000e+00\n",
      "Epoch 44/180\n",
      "51/51 [==============================] - 1s 26ms/step - loss: 5.6649e-04 - accuracy: 6.2150e-04 - val_loss: 6.5574e-04 - val_accuracy: 0.0000e+00\n",
      "Epoch 45/180\n",
      "51/51 [==============================] - 1s 26ms/step - loss: 6.0869e-04 - accuracy: 6.2150e-04 - val_loss: 5.8814e-04 - val_accuracy: 0.0000e+00\n",
      "Epoch 46/180\n",
      "51/51 [==============================] - 1s 26ms/step - loss: 5.5565e-04 - accuracy: 6.2150e-04 - val_loss: 5.3509e-04 - val_accuracy: 0.0000e+00\n",
      "Epoch 47/180\n",
      "51/51 [==============================] - 1s 27ms/step - loss: 6.0625e-04 - accuracy: 6.2150e-04 - val_loss: 3.0959e-04 - val_accuracy: 0.0000e+00\n",
      "Epoch 48/180\n",
      "51/51 [==============================] - 1s 26ms/step - loss: 6.5687e-04 - accuracy: 6.2150e-04 - val_loss: 3.0072e-04 - val_accuracy: 0.0000e+00\n",
      "Epoch 49/180\n",
      "51/51 [==============================] - 1s 26ms/step - loss: 6.4482e-04 - accuracy: 6.2150e-04 - val_loss: 3.6923e-04 - val_accuracy: 0.0000e+00\n",
      "Epoch 50/180\n",
      "51/51 [==============================] - 1s 26ms/step - loss: 5.5984e-04 - accuracy: 6.2150e-04 - val_loss: 3.3693e-04 - val_accuracy: 0.0000e+00\n",
      "Epoch 51/180\n",
      "51/51 [==============================] - 1s 26ms/step - loss: 6.5518e-04 - accuracy: 6.2150e-04 - val_loss: 7.9798e-04 - val_accuracy: 0.0000e+00\n",
      "Epoch 52/180\n",
      "51/51 [==============================] - 1s 26ms/step - loss: 5.3640e-04 - accuracy: 6.2150e-04 - val_loss: 2.9175e-04 - val_accuracy: 0.0000e+00\n"
     ]
    },
    {
     "name": "stdout",
     "output_type": "stream",
     "text": [
      "Epoch 53/180\n",
      "51/51 [==============================] - 1s 26ms/step - loss: 6.0696e-04 - accuracy: 6.2150e-04 - val_loss: 8.2926e-04 - val_accuracy: 0.0000e+00\n",
      "Epoch 54/180\n",
      "51/51 [==============================] - 1s 26ms/step - loss: 6.2045e-04 - accuracy: 6.2150e-04 - val_loss: 4.4039e-04 - val_accuracy: 0.0000e+00\n",
      "Epoch 55/180\n",
      "51/51 [==============================] - 1s 26ms/step - loss: 5.4809e-04 - accuracy: 6.2150e-04 - val_loss: 3.5151e-04 - val_accuracy: 0.0000e+00\n",
      "Epoch 56/180\n",
      "51/51 [==============================] - 1s 26ms/step - loss: 6.0243e-04 - accuracy: 6.2150e-04 - val_loss: 2.7404e-04 - val_accuracy: 0.0000e+00\n",
      "Epoch 57/180\n",
      "51/51 [==============================] - 1s 26ms/step - loss: 5.4382e-04 - accuracy: 6.2150e-04 - val_loss: 6.0523e-04 - val_accuracy: 0.0000e+00\n",
      "Epoch 58/180\n",
      "51/51 [==============================] - 1s 26ms/step - loss: 5.7580e-04 - accuracy: 6.2150e-04 - val_loss: 3.5872e-04 - val_accuracy: 0.0000e+00\n",
      "Epoch 59/180\n",
      "51/51 [==============================] - 1s 26ms/step - loss: 5.9082e-04 - accuracy: 6.2150e-04 - val_loss: 6.1354e-04 - val_accuracy: 0.0000e+00\n",
      "Epoch 60/180\n",
      "51/51 [==============================] - 1s 26ms/step - loss: 6.0638e-04 - accuracy: 6.2150e-04 - val_loss: 5.2069e-04 - val_accuracy: 0.0000e+00\n",
      "Epoch 61/180\n",
      "51/51 [==============================] - 1s 26ms/step - loss: 5.7328e-04 - accuracy: 6.2150e-04 - val_loss: 4.7621e-04 - val_accuracy: 0.0000e+00\n",
      "Epoch 62/180\n",
      "51/51 [==============================] - 1s 26ms/step - loss: 5.9889e-04 - accuracy: 6.2150e-04 - val_loss: 7.3640e-04 - val_accuracy: 0.0000e+00\n",
      "Epoch 63/180\n",
      "51/51 [==============================] - 1s 26ms/step - loss: 6.1853e-04 - accuracy: 6.2150e-04 - val_loss: 2.5003e-04 - val_accuracy: 0.0000e+00\n",
      "Epoch 64/180\n",
      "51/51 [==============================] - 1s 26ms/step - loss: 6.0946e-04 - accuracy: 6.2150e-04 - val_loss: 2.6494e-04 - val_accuracy: 0.0000e+00\n",
      "Epoch 65/180\n",
      "51/51 [==============================] - 1s 26ms/step - loss: 5.7487e-04 - accuracy: 6.2150e-04 - val_loss: 2.6360e-04 - val_accuracy: 0.0000e+00\n",
      "Epoch 66/180\n",
      "51/51 [==============================] - 1s 26ms/step - loss: 5.9453e-04 - accuracy: 6.2150e-04 - val_loss: 3.4692e-04 - val_accuracy: 0.0000e+00\n",
      "Epoch 67/180\n",
      "51/51 [==============================] - 1s 26ms/step - loss: 5.7748e-04 - accuracy: 6.2150e-04 - val_loss: 2.7420e-04 - val_accuracy: 0.0000e+00\n",
      "Epoch 68/180\n",
      "51/51 [==============================] - 1s 26ms/step - loss: 5.5519e-04 - accuracy: 6.2150e-04 - val_loss: 2.6642e-04 - val_accuracy: 0.0000e+00\n",
      "Epoch 69/180\n",
      "51/51 [==============================] - 1s 26ms/step - loss: 6.1243e-04 - accuracy: 6.2150e-04 - val_loss: 2.6305e-04 - val_accuracy: 0.0000e+00\n",
      "Epoch 70/180\n",
      "51/51 [==============================] - 1s 26ms/step - loss: 6.0332e-04 - accuracy: 6.2150e-04 - val_loss: 3.8899e-04 - val_accuracy: 0.0000e+00\n",
      "Epoch 71/180\n",
      "51/51 [==============================] - 1s 26ms/step - loss: 5.3190e-04 - accuracy: 6.2150e-04 - val_loss: 3.5453e-04 - val_accuracy: 0.0000e+00\n",
      "Epoch 72/180\n",
      "51/51 [==============================] - 1s 26ms/step - loss: 5.5436e-04 - accuracy: 6.2150e-04 - val_loss: 3.1546e-04 - val_accuracy: 0.0000e+00\n",
      "Epoch 73/180\n",
      "51/51 [==============================] - 1s 26ms/step - loss: 6.0197e-04 - accuracy: 6.2150e-04 - val_loss: 2.6943e-04 - val_accuracy: 0.0000e+00\n",
      "Epoch 74/180\n",
      "51/51 [==============================] - 1s 26ms/step - loss: 5.7680e-04 - accuracy: 6.2150e-04 - val_loss: 2.5662e-04 - val_accuracy: 0.0000e+00\n",
      "Epoch 75/180\n",
      "51/51 [==============================] - 1s 26ms/step - loss: 5.6154e-04 - accuracy: 6.2150e-04 - val_loss: 6.2015e-04 - val_accuracy: 0.0000e+00\n",
      "Epoch 76/180\n",
      "51/51 [==============================] - 1s 26ms/step - loss: 5.5585e-04 - accuracy: 6.2150e-04 - val_loss: 2.4662e-04 - val_accuracy: 0.0000e+00\n",
      "Epoch 77/180\n",
      "51/51 [==============================] - 1s 26ms/step - loss: 5.5063e-04 - accuracy: 6.2150e-04 - val_loss: 3.4263e-04 - val_accuracy: 0.0000e+00\n",
      "Epoch 78/180\n",
      "51/51 [==============================] - 1s 26ms/step - loss: 5.6861e-04 - accuracy: 6.2150e-04 - val_loss: 3.7571e-04 - val_accuracy: 0.0000e+00\n",
      "Epoch 79/180\n",
      "51/51 [==============================] - 1s 26ms/step - loss: 5.9497e-04 - accuracy: 6.2150e-04 - val_loss: 7.6623e-04 - val_accuracy: 0.0000e+00\n",
      "Epoch 80/180\n",
      "51/51 [==============================] - 1s 26ms/step - loss: 5.8628e-04 - accuracy: 6.2150e-04 - val_loss: 2.3360e-04 - val_accuracy: 0.0000e+00\n",
      "Epoch 81/180\n",
      "51/51 [==============================] - 1s 26ms/step - loss: 5.2125e-04 - accuracy: 6.2150e-04 - val_loss: 2.4507e-04 - val_accuracy: 0.0000e+00\n",
      "Epoch 82/180\n",
      "51/51 [==============================] - 1s 27ms/step - loss: 5.5209e-04 - accuracy: 6.2150e-04 - val_loss: 4.4526e-04 - val_accuracy: 0.0000e+00\n",
      "Epoch 83/180\n",
      "51/51 [==============================] - 1s 27ms/step - loss: 5.7238e-04 - accuracy: 6.2150e-04 - val_loss: 4.1262e-04 - val_accuracy: 0.0000e+00\n",
      "Epoch 84/180\n",
      "51/51 [==============================] - 1s 27ms/step - loss: 5.6800e-04 - accuracy: 6.2150e-04 - val_loss: 2.6380e-04 - val_accuracy: 0.0000e+00\n",
      "Epoch 85/180\n",
      "51/51 [==============================] - 1s 27ms/step - loss: 5.8645e-04 - accuracy: 6.2150e-04 - val_loss: 2.1696e-04 - val_accuracy: 0.0000e+00\n",
      "Epoch 86/180\n",
      "51/51 [==============================] - 1s 27ms/step - loss: 5.6662e-04 - accuracy: 6.2150e-04 - val_loss: 5.1457e-04 - val_accuracy: 0.0000e+00\n",
      "Epoch 87/180\n",
      "51/51 [==============================] - 1s 27ms/step - loss: 5.4117e-04 - accuracy: 6.2150e-04 - val_loss: 4.7762e-04 - val_accuracy: 0.0000e+00\n",
      "Epoch 88/180\n",
      "51/51 [==============================] - 1s 27ms/step - loss: 5.7108e-04 - accuracy: 6.2150e-04 - val_loss: 2.7373e-04 - val_accuracy: 0.0000e+00\n",
      "Epoch 89/180\n",
      "51/51 [==============================] - 1s 27ms/step - loss: 5.5580e-04 - accuracy: 6.2150e-04 - val_loss: 4.2683e-04 - val_accuracy: 0.0000e+00\n",
      "Epoch 90/180\n",
      "51/51 [==============================] - 1s 27ms/step - loss: 5.5005e-04 - accuracy: 6.2150e-04 - val_loss: 4.1469e-04 - val_accuracy: 0.0000e+00\n",
      "Epoch 91/180\n",
      "51/51 [==============================] - 1s 27ms/step - loss: 5.8032e-04 - accuracy: 6.2150e-04 - val_loss: 5.9688e-04 - val_accuracy: 0.0000e+00\n",
      "Epoch 92/180\n",
      "51/51 [==============================] - 1s 27ms/step - loss: 5.6694e-04 - accuracy: 6.2150e-04 - val_loss: 3.5376e-04 - val_accuracy: 0.0000e+00\n",
      "Epoch 93/180\n",
      "51/51 [==============================] - 1s 27ms/step - loss: 5.6837e-04 - accuracy: 6.2150e-04 - val_loss: 2.8646e-04 - val_accuracy: 0.0000e+00\n",
      "Epoch 94/180\n",
      "51/51 [==============================] - 1s 27ms/step - loss: 5.7686e-04 - accuracy: 6.2150e-04 - val_loss: 3.4817e-04 - val_accuracy: 0.0000e+00\n",
      "Epoch 95/180\n",
      "51/51 [==============================] - 1s 27ms/step - loss: 5.4567e-04 - accuracy: 6.2150e-04 - val_loss: 4.1217e-04 - val_accuracy: 0.0000e+00\n",
      "Epoch 96/180\n",
      "51/51 [==============================] - 1s 26ms/step - loss: 5.0474e-04 - accuracy: 6.2150e-04 - val_loss: 2.8692e-04 - val_accuracy: 0.0000e+00\n",
      "Epoch 97/180\n",
      "51/51 [==============================] - 1s 26ms/step - loss: 5.5230e-04 - accuracy: 6.2150e-04 - val_loss: 4.7691e-04 - val_accuracy: 0.0000e+00\n",
      "Epoch 98/180\n",
      "51/51 [==============================] - 1s 26ms/step - loss: 5.8190e-04 - accuracy: 6.2150e-04 - val_loss: 1.9943e-04 - val_accuracy: 0.0000e+00\n",
      "Epoch 99/180\n",
      "51/51 [==============================] - 1s 26ms/step - loss: 5.5932e-04 - accuracy: 6.2150e-04 - val_loss: 8.0431e-04 - val_accuracy: 0.0000e+00\n",
      "Epoch 100/180\n",
      "51/51 [==============================] - 1s 26ms/step - loss: 5.4355e-04 - accuracy: 6.2150e-04 - val_loss: 2.0379e-04 - val_accuracy: 0.0000e+00\n",
      "Epoch 101/180\n",
      "51/51 [==============================] - 1s 26ms/step - loss: 5.2729e-04 - accuracy: 6.2150e-04 - val_loss: 4.8721e-04 - val_accuracy: 0.0000e+00\n",
      "Epoch 102/180\n",
      "51/51 [==============================] - 1s 26ms/step - loss: 5.2095e-04 - accuracy: 6.2150e-04 - val_loss: 3.2392e-04 - val_accuracy: 0.0000e+00\n",
      "Epoch 103/180\n",
      "51/51 [==============================] - 1s 25ms/step - loss: 5.8077e-04 - accuracy: 6.2150e-04 - val_loss: 2.2070e-04 - val_accuracy: 0.0000e+00\n",
      "Epoch 104/180\n"
     ]
    },
    {
     "name": "stdout",
     "output_type": "stream",
     "text": [
      "51/51 [==============================] - 1s 26ms/step - loss: 5.5337e-04 - accuracy: 6.2150e-04 - val_loss: 2.4744e-04 - val_accuracy: 0.0000e+00\n",
      "Epoch 105/180\n",
      "51/51 [==============================] - 1s 26ms/step - loss: 5.6161e-04 - accuracy: 6.2150e-04 - val_loss: 2.5754e-04 - val_accuracy: 0.0000e+00\n",
      "Epoch 106/180\n",
      "51/51 [==============================] - 1s 26ms/step - loss: 5.6748e-04 - accuracy: 6.2150e-04 - val_loss: 6.4029e-04 - val_accuracy: 0.0000e+00\n",
      "Epoch 107/180\n",
      "51/51 [==============================] - 1s 26ms/step - loss: 5.7760e-04 - accuracy: 6.2150e-04 - val_loss: 2.0448e-04 - val_accuracy: 0.0000e+00\n",
      "Epoch 108/180\n",
      "51/51 [==============================] - 1s 26ms/step - loss: 5.4372e-04 - accuracy: 6.2150e-04 - val_loss: 3.5533e-04 - val_accuracy: 0.0000e+00\n",
      "Epoch 109/180\n",
      "51/51 [==============================] - 1s 26ms/step - loss: 5.3832e-04 - accuracy: 6.2150e-04 - val_loss: 1.8457e-04 - val_accuracy: 0.0000e+00\n",
      "Epoch 110/180\n",
      "51/51 [==============================] - 1s 27ms/step - loss: 5.6740e-04 - accuracy: 6.2150e-04 - val_loss: 2.0077e-04 - val_accuracy: 0.0000e+00\n",
      "Epoch 111/180\n",
      "51/51 [==============================] - 1s 26ms/step - loss: 5.8193e-04 - accuracy: 6.2150e-04 - val_loss: 2.1089e-04 - val_accuracy: 0.0000e+00\n",
      "Epoch 112/180\n",
      "51/51 [==============================] - 1s 26ms/step - loss: 5.3906e-04 - accuracy: 6.2150e-04 - val_loss: 5.3061e-04 - val_accuracy: 0.0000e+00\n",
      "Epoch 113/180\n",
      "51/51 [==============================] - 1s 26ms/step - loss: 5.4310e-04 - accuracy: 6.2150e-04 - val_loss: 1.9147e-04 - val_accuracy: 0.0000e+00\n",
      "Epoch 114/180\n",
      "51/51 [==============================] - 1s 26ms/step - loss: 5.0082e-04 - accuracy: 6.2150e-04 - val_loss: 4.0060e-04 - val_accuracy: 0.0000e+00\n",
      "Epoch 115/180\n",
      "51/51 [==============================] - 1s 26ms/step - loss: 5.7770e-04 - accuracy: 6.2150e-04 - val_loss: 2.1048e-04 - val_accuracy: 0.0000e+00\n",
      "Epoch 116/180\n",
      "51/51 [==============================] - 1s 26ms/step - loss: 5.6264e-04 - accuracy: 6.2150e-04 - val_loss: 1.8402e-04 - val_accuracy: 0.0000e+00\n",
      "Epoch 117/180\n",
      "51/51 [==============================] - 1s 26ms/step - loss: 5.2220e-04 - accuracy: 6.2150e-04 - val_loss: 2.5009e-04 - val_accuracy: 0.0000e+00\n",
      "Epoch 118/180\n",
      "51/51 [==============================] - 1s 26ms/step - loss: 5.6901e-04 - accuracy: 6.2150e-04 - val_loss: 2.0218e-04 - val_accuracy: 0.0000e+00\n",
      "Epoch 119/180\n",
      "51/51 [==============================] - 1s 26ms/step - loss: 5.5727e-04 - accuracy: 6.2150e-04 - val_loss: 2.1893e-04 - val_accuracy: 0.0000e+00\n",
      "Epoch 120/180\n",
      "51/51 [==============================] - 1s 26ms/step - loss: 4.8957e-04 - accuracy: 6.2150e-04 - val_loss: 1.7958e-04 - val_accuracy: 0.0000e+00\n",
      "Epoch 121/180\n",
      "51/51 [==============================] - 1s 25ms/step - loss: 5.7463e-04 - accuracy: 6.2150e-04 - val_loss: 1.8324e-04 - val_accuracy: 0.0000e+00\n",
      "Epoch 122/180\n",
      "51/51 [==============================] - 1s 26ms/step - loss: 5.2614e-04 - accuracy: 6.2150e-04 - val_loss: 1.7971e-04 - val_accuracy: 0.0000e+00\n",
      "Epoch 123/180\n",
      "51/51 [==============================] - 1s 25ms/step - loss: 5.0255e-04 - accuracy: 6.2150e-04 - val_loss: 4.1862e-04 - val_accuracy: 0.0000e+00\n",
      "Epoch 124/180\n",
      "51/51 [==============================] - 1s 26ms/step - loss: 5.4505e-04 - accuracy: 6.2150e-04 - val_loss: 1.9937e-04 - val_accuracy: 0.0000e+00\n",
      "Epoch 125/180\n",
      "51/51 [==============================] - 1s 25ms/step - loss: 5.1764e-04 - accuracy: 6.2150e-04 - val_loss: 2.3350e-04 - val_accuracy: 0.0000e+00\n",
      "Epoch 126/180\n",
      "51/51 [==============================] - 1s 26ms/step - loss: 5.1325e-04 - accuracy: 6.2150e-04 - val_loss: 1.8345e-04 - val_accuracy: 0.0000e+00\n",
      "Epoch 127/180\n",
      "51/51 [==============================] - 1s 26ms/step - loss: 5.3792e-04 - accuracy: 6.2150e-04 - val_loss: 1.8504e-04 - val_accuracy: 0.0000e+00\n",
      "Epoch 128/180\n",
      "51/51 [==============================] - 1s 26ms/step - loss: 5.6452e-04 - accuracy: 6.2150e-04 - val_loss: 1.8134e-04 - val_accuracy: 0.0000e+00\n",
      "Epoch 129/180\n",
      "51/51 [==============================] - 1s 26ms/step - loss: 5.5772e-04 - accuracy: 6.2150e-04 - val_loss: 3.0581e-04 - val_accuracy: 0.0000e+00\n",
      "Epoch 130/180\n",
      "51/51 [==============================] - 1s 26ms/step - loss: 5.6154e-04 - accuracy: 6.2150e-04 - val_loss: 2.5747e-04 - val_accuracy: 0.0000e+00\n",
      "Epoch 131/180\n",
      "51/51 [==============================] - 1s 26ms/step - loss: 5.0832e-04 - accuracy: 6.2150e-04 - val_loss: 4.4132e-04 - val_accuracy: 0.0000e+00\n",
      "Epoch 132/180\n",
      "51/51 [==============================] - 1s 26ms/step - loss: 5.3262e-04 - accuracy: 6.2150e-04 - val_loss: 1.9295e-04 - val_accuracy: 0.0000e+00\n",
      "Epoch 133/180\n",
      "51/51 [==============================] - 1s 26ms/step - loss: 5.6186e-04 - accuracy: 6.2150e-04 - val_loss: 1.7198e-04 - val_accuracy: 0.0000e+00\n",
      "Epoch 134/180\n",
      "51/51 [==============================] - 1s 26ms/step - loss: 5.1241e-04 - accuracy: 6.2150e-04 - val_loss: 2.3024e-04 - val_accuracy: 0.0000e+00\n",
      "Epoch 135/180\n",
      "51/51 [==============================] - 1s 26ms/step - loss: 5.6415e-04 - accuracy: 6.2150e-04 - val_loss: 3.5418e-04 - val_accuracy: 0.0000e+00\n",
      "Epoch 136/180\n",
      "51/51 [==============================] - 1s 26ms/step - loss: 4.8578e-04 - accuracy: 6.2150e-04 - val_loss: 2.1455e-04 - val_accuracy: 0.0000e+00\n",
      "Epoch 137/180\n",
      "51/51 [==============================] - 1s 26ms/step - loss: 5.2734e-04 - accuracy: 6.2150e-04 - val_loss: 6.7071e-04 - val_accuracy: 0.0000e+00\n",
      "Epoch 138/180\n",
      "51/51 [==============================] - 1s 26ms/step - loss: 5.0559e-04 - accuracy: 6.2150e-04 - val_loss: 1.5555e-04 - val_accuracy: 0.0000e+00\n",
      "Epoch 139/180\n",
      "51/51 [==============================] - 1s 26ms/step - loss: 5.2510e-04 - accuracy: 6.2150e-04 - val_loss: 3.4270e-04 - val_accuracy: 0.0000e+00\n",
      "Epoch 140/180\n",
      "51/51 [==============================] - 1s 26ms/step - loss: 4.8944e-04 - accuracy: 6.2150e-04 - val_loss: 8.0438e-04 - val_accuracy: 0.0000e+00\n",
      "Epoch 141/180\n",
      "51/51 [==============================] - 1s 26ms/step - loss: 5.2319e-04 - accuracy: 6.2150e-04 - val_loss: 2.0587e-04 - val_accuracy: 0.0000e+00\n",
      "Epoch 142/180\n",
      "51/51 [==============================] - 1s 26ms/step - loss: 5.2002e-04 - accuracy: 6.2150e-04 - val_loss: 1.6819e-04 - val_accuracy: 0.0000e+00\n",
      "Epoch 143/180\n",
      "51/51 [==============================] - 1s 26ms/step - loss: 5.0380e-04 - accuracy: 6.2150e-04 - val_loss: 3.4734e-04 - val_accuracy: 0.0000e+00\n",
      "Epoch 144/180\n",
      "51/51 [==============================] - 1s 27ms/step - loss: 5.0959e-04 - accuracy: 6.2150e-04 - val_loss: 2.6863e-04 - val_accuracy: 0.0000e+00\n",
      "Epoch 145/180\n",
      "51/51 [==============================] - 1s 26ms/step - loss: 5.0513e-04 - accuracy: 6.2150e-04 - val_loss: 2.6030e-04 - val_accuracy: 0.0000e+00\n",
      "Epoch 146/180\n",
      "51/51 [==============================] - 1s 26ms/step - loss: 5.0065e-04 - accuracy: 6.2150e-04 - val_loss: 1.5246e-04 - val_accuracy: 0.0000e+00\n",
      "Epoch 147/180\n",
      "51/51 [==============================] - 1s 25ms/step - loss: 5.3136e-04 - accuracy: 6.2150e-04 - val_loss: 1.8519e-04 - val_accuracy: 0.0000e+00\n",
      "Epoch 148/180\n",
      "51/51 [==============================] - 1s 26ms/step - loss: 5.1880e-04 - accuracy: 6.2150e-04 - val_loss: 4.7621e-04 - val_accuracy: 0.0000e+00\n",
      "Epoch 149/180\n",
      "51/51 [==============================] - 1s 26ms/step - loss: 5.1787e-04 - accuracy: 6.2150e-04 - val_loss: 1.7547e-04 - val_accuracy: 0.0000e+00\n",
      "Epoch 150/180\n",
      "51/51 [==============================] - 1s 26ms/step - loss: 5.2013e-04 - accuracy: 6.2150e-04 - val_loss: 1.5221e-04 - val_accuracy: 0.0000e+00\n",
      "Epoch 151/180\n",
      "51/51 [==============================] - 1s 26ms/step - loss: 5.2083e-04 - accuracy: 6.2150e-04 - val_loss: 1.5655e-04 - val_accuracy: 0.0000e+00\n",
      "Epoch 152/180\n",
      "51/51 [==============================] - 1s 26ms/step - loss: 4.7859e-04 - accuracy: 6.2150e-04 - val_loss: 1.3813e-04 - val_accuracy: 0.0000e+00\n",
      "Epoch 153/180\n",
      "51/51 [==============================] - 1s 26ms/step - loss: 5.7223e-04 - accuracy: 6.2150e-04 - val_loss: 2.9271e-04 - val_accuracy: 0.0000e+00\n",
      "Epoch 154/180\n",
      "51/51 [==============================] - 1s 26ms/step - loss: 5.7821e-04 - accuracy: 6.2150e-04 - val_loss: 1.7109e-04 - val_accuracy: 0.0000e+00\n",
      "Epoch 155/180\n"
     ]
    },
    {
     "name": "stdout",
     "output_type": "stream",
     "text": [
      "51/51 [==============================] - 1s 26ms/step - loss: 5.1267e-04 - accuracy: 6.2150e-04 - val_loss: 1.5573e-04 - val_accuracy: 0.0000e+00\n",
      "Epoch 156/180\n",
      "51/51 [==============================] - 1s 26ms/step - loss: 5.4342e-04 - accuracy: 6.2150e-04 - val_loss: 3.0996e-04 - val_accuracy: 0.0000e+00\n",
      "Epoch 157/180\n",
      "51/51 [==============================] - 1s 27ms/step - loss: 4.9118e-04 - accuracy: 6.2150e-04 - val_loss: 1.7357e-04 - val_accuracy: 0.0000e+00\n",
      "Epoch 158/180\n",
      "51/51 [==============================] - 1s 26ms/step - loss: 4.9180e-04 - accuracy: 6.2150e-04 - val_loss: 2.2570e-04 - val_accuracy: 0.0000e+00\n",
      "Epoch 159/180\n",
      "51/51 [==============================] - 1s 26ms/step - loss: 5.0650e-04 - accuracy: 6.2150e-04 - val_loss: 1.5884e-04 - val_accuracy: 0.0000e+00\n",
      "Epoch 160/180\n",
      "51/51 [==============================] - 1s 26ms/step - loss: 5.1375e-04 - accuracy: 6.2150e-04 - val_loss: 3.2612e-04 - val_accuracy: 0.0000e+00\n",
      "Epoch 161/180\n",
      "51/51 [==============================] - 1s 26ms/step - loss: 5.1814e-04 - accuracy: 6.2150e-04 - val_loss: 2.6545e-04 - val_accuracy: 0.0000e+00\n",
      "Epoch 162/180\n",
      "51/51 [==============================] - 1s 26ms/step - loss: 5.0479e-04 - accuracy: 6.2150e-04 - val_loss: 1.4066e-04 - val_accuracy: 0.0000e+00\n",
      "Epoch 163/180\n",
      "51/51 [==============================] - 1s 26ms/step - loss: 5.0203e-04 - accuracy: 6.2150e-04 - val_loss: 4.0009e-04 - val_accuracy: 0.0000e+00\n",
      "Epoch 164/180\n",
      "51/51 [==============================] - 1s 26ms/step - loss: 5.0023e-04 - accuracy: 6.2150e-04 - val_loss: 3.0409e-04 - val_accuracy: 0.0000e+00\n",
      "Epoch 165/180\n",
      "51/51 [==============================] - 1s 25ms/step - loss: 5.5106e-04 - accuracy: 6.2150e-04 - val_loss: 2.5526e-04 - val_accuracy: 0.0000e+00\n",
      "Epoch 166/180\n",
      "51/51 [==============================] - 1s 26ms/step - loss: 5.2413e-04 - accuracy: 6.2150e-04 - val_loss: 2.5902e-04 - val_accuracy: 0.0000e+00\n",
      "Epoch 167/180\n",
      "51/51 [==============================] - 1s 26ms/step - loss: 6.0400e-04 - accuracy: 6.2150e-04 - val_loss: 1.7832e-04 - val_accuracy: 0.0000e+00\n",
      "Epoch 168/180\n",
      "51/51 [==============================] - 1s 25ms/step - loss: 4.8765e-04 - accuracy: 6.2150e-04 - val_loss: 6.0571e-04 - val_accuracy: 0.0000e+00\n",
      "Epoch 169/180\n",
      "51/51 [==============================] - 1s 25ms/step - loss: 5.0281e-04 - accuracy: 6.2150e-04 - val_loss: 1.5367e-04 - val_accuracy: 0.0000e+00\n",
      "Epoch 170/180\n",
      "51/51 [==============================] - 1s 25ms/step - loss: 5.1015e-04 - accuracy: 6.2150e-04 - val_loss: 3.9839e-04 - val_accuracy: 0.0000e+00\n",
      "Epoch 171/180\n",
      "51/51 [==============================] - 1s 26ms/step - loss: 4.9773e-04 - accuracy: 6.2150e-04 - val_loss: 3.3811e-04 - val_accuracy: 0.0000e+00\n",
      "Epoch 172/180\n",
      "51/51 [==============================] - 1s 26ms/step - loss: 5.7924e-04 - accuracy: 6.2150e-04 - val_loss: 1.6793e-04 - val_accuracy: 0.0000e+00\n",
      "Epoch 173/180\n",
      "51/51 [==============================] - 1s 26ms/step - loss: 5.5826e-04 - accuracy: 6.2150e-04 - val_loss: 1.6290e-04 - val_accuracy: 0.0000e+00\n",
      "Epoch 174/180\n",
      "51/51 [==============================] - 1s 26ms/step - loss: 5.4376e-04 - accuracy: 6.2150e-04 - val_loss: 1.4874e-04 - val_accuracy: 0.0000e+00\n",
      "Epoch 175/180\n",
      "51/51 [==============================] - 1s 25ms/step - loss: 5.1810e-04 - accuracy: 6.2150e-04 - val_loss: 4.1178e-04 - val_accuracy: 0.0000e+00\n",
      "Epoch 176/180\n",
      "51/51 [==============================] - 1s 26ms/step - loss: 5.3764e-04 - accuracy: 6.2150e-04 - val_loss: 1.5118e-04 - val_accuracy: 0.0000e+00\n",
      "Epoch 177/180\n",
      "51/51 [==============================] - 1s 26ms/step - loss: 5.0922e-04 - accuracy: 6.2150e-04 - val_loss: 6.1502e-04 - val_accuracy: 0.0000e+00\n",
      "Epoch 178/180\n",
      "51/51 [==============================] - 1s 26ms/step - loss: 5.1877e-04 - accuracy: 6.2150e-04 - val_loss: 4.1570e-04 - val_accuracy: 0.0000e+00\n",
      "Epoch 179/180\n",
      "51/51 [==============================] - 1s 27ms/step - loss: 5.3261e-04 - accuracy: 6.2150e-04 - val_loss: 2.3708e-04 - val_accuracy: 0.0000e+00\n",
      "Epoch 180/180\n",
      "51/51 [==============================] - 1s 28ms/step - loss: 5.4185e-04 - accuracy: 6.2150e-04 - val_loss: 1.8674e-04 - val_accuracy: 0.0000e+00\n"
     ]
    }
   ],
   "source": [
    "#Treinando o modelo\n",
    "modelo = model.fit(x_train, y_train, batch_size=32, epochs = 180, validation_split=0.1, verbose = 1)"
   ]
  },
  {
   "cell_type": "code",
   "execution_count": 24,
   "id": "f51896e5",
   "metadata": {},
   "outputs": [],
   "source": [
    "model.save('awari_modelo.h5')"
   ]
  },
  {
   "cell_type": "code",
   "execution_count": 25,
   "id": "459d6dd1",
   "metadata": {},
   "outputs": [
    {
     "data": {
      "text/plain": [
       "<matplotlib.legend.Legend at 0x1a023a50f40>"
      ]
     },
     "execution_count": 25,
     "metadata": {},
     "output_type": "execute_result"
    },
    {
     "data": {
      "image/png": "[encoded data removed]",
      "text/plain": [
       "<Figure size 432x288 with 1 Axes>"
      ]
     },
     "metadata": {
      "needs_background": "light"
     },
     "output_type": "display_data"
    }
   ],
   "source": [
    "# Curvas training loss e valid loss\n",
    "\n",
    "plt.plot(modelo.history['loss'], label='Training loss')\n",
    "plt.plot(modelo.history['val_loss'], label='Validation loss')\n",
    "plt.legend()"
   ]
  },
  {
   "cell_type": "code",
   "execution_count": 26,
   "id": "710f8902",
   "metadata": {},
   "outputs": [],
   "source": [
    "#Criando o dataset de teste\n",
    "test_data = scaled_df[df_train_len - 60:, :]"
   ]
  },
  {
   "cell_type": "code",
   "execution_count": 27,
   "id": "63c29e5a",
   "metadata": {},
   "outputs": [
    {
     "data": {
      "text/plain": [
       "(522, 1)"
      ]
     },
     "execution_count": 27,
     "metadata": {},
     "output_type": "execute_result"
    }
   ],
   "source": [
    "test_data.shape\n",
    "\n"
   ]
  },
  {
   "cell_type": "code",
   "execution_count": 28,
   "id": "3135a06f",
   "metadata": {},
   "outputs": [],
   "source": [
    "#Criando x_test e y_test\n",
    "x_test = []\n",
    "y_test = dataset[df_train_len:, :]\n",
    "\n",
    "for i in range(60, len(test_data)):\n",
    "    x_test.append(test_data[i-60:i, 0])\n",
    "\n"
   ]
  },
  {
   "cell_type": "code",
   "execution_count": 29,
   "id": "e105986d",
   "metadata": {},
   "outputs": [],
   "source": [
    "#Convertendo para um array\n",
    "x_test = np.array(x_test)"
   ]
  },
  {
   "cell_type": "code",
   "execution_count": 30,
   "id": "587d8ad1",
   "metadata": {},
   "outputs": [],
   "source": [
    "#Reshape para 3d\n",
    "x_test = np.reshape(x_test, (x_test.shape[0], x_test.shape[1], 1))"
   ]
  },
  {
   "cell_type": "code",
   "execution_count": 31,
   "id": "ed270946",
   "metadata": {},
   "outputs": [],
   "source": [
    "# Obter os predicted values\n",
    "\n",
    "predictions = model.predict(x_test)\n",
    "\n",
    "predictions = scaler.inverse_transform(predictions)"
   ]
  },
  {
   "cell_type": "code",
   "execution_count": 32,
   "id": "d55c1f70",
   "metadata": {},
   "outputs": [
    {
     "data": {
      "text/plain": [
       "(462, 1)"
      ]
     },
     "execution_count": 32,
     "metadata": {},
     "output_type": "execute_result"
    }
   ],
   "source": [
    "predictions.shape"
   ]
  },
  {
   "cell_type": "code",
   "execution_count": 33,
   "id": "eb3e784c",
   "metadata": {},
   "outputs": [
    {
     "name": "stdout",
     "output_type": "stream",
     "text": [
      "rmse: 20.45 RMSE\n"
     ]
    }
   ],
   "source": [
    "# Métrica: RSME\n",
    "rmse = math.sqrt(mean_squared_error(predictions, y_test))\n",
    "\n",
    "print('rmse: %.2f RMSE' % (rmse))"
   ]
  },
  {
   "cell_type": "code",
   "execution_count": 34,
   "id": "3d36f1a2",
   "metadata": {},
   "outputs": [
    {
     "name": "stderr",
     "output_type": "stream",
     "text": [
      "<ipython-input-34-9d53e614c7a0>:5: SettingWithCopyWarning: \n",
      "A value is trying to be set on a copy of a slice from a DataFrame.\n",
      "Try using .loc[row_indexer,col_indexer] = value instead\n",
      "\n",
      "See the caveats in the documentation: https://pandas.pydata.org/pandas-docs/stable/user_guide/indexing.html#returning-a-view-versus-a-copy\n",
      "  valid['Predictions'] = predictions\n"
     ]
    },
    {
     "data": {
      "text/plain": [
       "<matplotlib.legend.Legend at 0x1a023a78d90>"
      ]
     },
     "execution_count": 34,
     "metadata": {},
     "output_type": "execute_result"
    },
    {
     "data": {
      "image/png": "[encoded data removed]",
      "text/plain": [
       "<Figure size 1152x576 with 1 Axes>"
      ]
     },
     "metadata": {
      "needs_background": "light"
     },
     "output_type": "display_data"
    }
   ],
   "source": [
    "# Plotando os dados\n",
    "\n",
    "train = df_close[:df_train_len]\n",
    "valid = df_close[df_train_len:]\n",
    "valid['Predictions'] = predictions\n",
    "\n",
    "plt.figure(figsize = (16,8))\n",
    "plt.title('Model')\n",
    "plt.xlabel('Date')\n",
    "plt.ylabel('Closing Price USD')\n",
    "plt.plot(train['Close'])\n",
    "plt.plot(valid[['Close', 'Predictions']])\n",
    "plt.legend(['Train', 'Validation', 'Predictions'], loc = 'lower right')"
   ]
  },
  {
   "cell_type": "code",
   "execution_count": 35,
   "id": "adb11541",
   "metadata": {},
   "outputs": [
    {
     "data": {
      "text/plain": [
       "pandas.core.frame.DataFrame"
      ]
     },
     "execution_count": 35,
     "metadata": {},
     "output_type": "execute_result"
    }
   ],
   "source": [
    "type(df_close)\n"
   ]
  },
  {
   "cell_type": "code",
   "execution_count": 36,
   "id": "4ff1b437",
   "metadata": {},
   "outputs": [
    {
     "data": {
      "text/html": [
       "<div>\n",
       "<style scoped>\n",
       "    .dataframe tbody tr th:only-of-type {\n",
       "        vertical-align: middle;\n",
       "    }\n",
       "\n",
       "    .dataframe tbody tr th {\n",
       "        vertical-align: top;\n",
       "    }\n",
       "\n",
       "    .dataframe thead th {\n",
       "        text-align: right;\n",
       "    }\n",
       "</style>\n",
       "<table border=\"1\" class=\"dataframe\">\n",
       "  <thead>\n",
       "    <tr style=\"text-align: right;\">\n",
       "      <th></th>\n",
       "      <th>Close</th>\n",
       "      <th>Predictions</th>\n",
       "    </tr>\n",
       "    <tr>\n",
       "      <th>Date</th>\n",
       "      <th></th>\n",
       "      <th></th>\n",
       "    </tr>\n",
       "  </thead>\n",
       "  <tbody>\n",
       "    <tr>\n",
       "      <th>2019-09-24</th>\n",
       "      <td>181.279999</td>\n",
       "      <td>191.594315</td>\n",
       "    </tr>\n",
       "    <tr>\n",
       "      <th>2019-09-25</th>\n",
       "      <td>182.800003</td>\n",
       "      <td>188.630005</td>\n",
       "    </tr>\n",
       "    <tr>\n",
       "      <th>2019-09-26</th>\n",
       "      <td>180.110001</td>\n",
       "      <td>186.868698</td>\n",
       "    </tr>\n",
       "    <tr>\n",
       "      <th>2019-09-27</th>\n",
       "      <td>177.100006</td>\n",
       "      <td>185.287369</td>\n",
       "    </tr>\n",
       "    <tr>\n",
       "      <th>2019-09-30</th>\n",
       "      <td>178.080002</td>\n",
       "      <td>183.511856</td>\n",
       "    </tr>\n",
       "    <tr>\n",
       "      <th>...</th>\n",
       "      <td>...</td>\n",
       "      <td>...</td>\n",
       "    </tr>\n",
       "    <tr>\n",
       "      <th>2021-07-19</th>\n",
       "      <td>336.950012</td>\n",
       "      <td>297.035461</td>\n",
       "    </tr>\n",
       "    <tr>\n",
       "      <th>2021-07-20</th>\n",
       "      <td>341.660004</td>\n",
       "      <td>294.986176</td>\n",
       "    </tr>\n",
       "    <tr>\n",
       "      <th>2021-07-21</th>\n",
       "      <td>346.230011</td>\n",
       "      <td>296.887177</td>\n",
       "    </tr>\n",
       "    <tr>\n",
       "      <th>2021-07-22</th>\n",
       "      <td>351.190002</td>\n",
       "      <td>300.176453</td>\n",
       "    </tr>\n",
       "    <tr>\n",
       "      <th>2021-07-23</th>\n",
       "      <td>369.790009</td>\n",
       "      <td>303.481537</td>\n",
       "    </tr>\n",
       "  </tbody>\n",
       "</table>\n",
       "<p>462 rows × 2 columns</p>\n",
       "</div>"
      ],
      "text/plain": [
       "                 Close  Predictions\n",
       "Date                               \n",
       "2019-09-24  181.279999   191.594315\n",
       "2019-09-25  182.800003   188.630005\n",
       "2019-09-26  180.110001   186.868698\n",
       "2019-09-27  177.100006   185.287369\n",
       "2019-09-30  178.080002   183.511856\n",
       "...                ...          ...\n",
       "2021-07-19  336.950012   297.035461\n",
       "2021-07-20  341.660004   294.986176\n",
       "2021-07-21  346.230011   296.887177\n",
       "2021-07-22  351.190002   300.176453\n",
       "2021-07-23  369.790009   303.481537\n",
       "\n",
       "[462 rows x 2 columns]"
      ]
     },
     "execution_count": 36,
     "metadata": {},
     "output_type": "execute_result"
    }
   ],
   "source": [
    "# Mostrando os valores reais e os previstos\n",
    "valid"
   ]
  },
  {
   "cell_type": "code",
   "execution_count": null,
   "id": "361325ff",
   "metadata": {},
   "outputs": [],
   "source": []
  }
 ],
 "metadata": {
  "kernelspec": {
   "display_name": "Python 3",
   "language": "python",
   "name": "python3"
  },
  "language_info": {
   "codemirror_mode": {
    "name": "ipython",
    "version": 3
   },
   "file_extension": ".py",
   "mimetype": "text/x-python",
   "name": "python",
   "nbconvert_exporter": "python",
   "pygments_lexer": "ipython3",
   "version": "3.8.8"
  }
 },
 "nbformat": 4,
 "nbformat_minor": 5
}
